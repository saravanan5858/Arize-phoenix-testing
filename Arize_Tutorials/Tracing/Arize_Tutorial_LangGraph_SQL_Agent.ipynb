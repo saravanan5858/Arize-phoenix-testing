{
  "cells": [
    {
      "cell_type": "markdown",
      "id": "5d4d3439-336a-4f3c-a5b4-28a25d3c3e6c",
      "metadata": {
        "id": "5d4d3439-336a-4f3c-a5b4-28a25d3c3e6c"
      },
      "source": [
        "# SQL Database agent\n",
        "\n",
        "In this cookbook, we will walk through how to build an agent that can answer questions about a SQL database.\n",
        "\n",
        "We'll also show how to evaluate it in 3 different ways. See our conceptual guide and agent tutorial for added context:\n",
        "  \n",
        "* [Conceptual guide for evaluations](https://docs.smith.langchain.com/concepts/evaluation)\n",
        "* [Guide for agent evaluations](https://docs.smith.langchain.com/tutorials/Developers/agents)\n",
        "\n",
        "## Set up environment\n",
        "\n",
        "We'll set up our environment variables for OpenAI, and optionally, to enable tracing with [LangSmith](https://smith.langchain.com)."
      ]
    },
    {
      "cell_type": "code",
      "execution_count": 1,
      "id": "8c349868-0019-409a-a1d3-1b5a5ec579e1",
      "metadata": {
        "id": "8c349868-0019-409a-a1d3-1b5a5ec579e1"
      },
      "outputs": [],
      "source": [
        "# !pip install --upgrade --quiet langchain langsmith langchain-community langchain-experimental langgraph arize-otel==0.7.1"
      ]
    },
    {
      "cell_type": "code",
      "execution_count": 2,
      "id": "bde97d0f-970a-42bb-ade1-a6861fdebc3b",
      "metadata": {
        "colab": {
          "base_uri": "https://localhost:8080/"
        },
        "id": "bde97d0f-970a-42bb-ade1-a6861fdebc3b",
        "outputId": "1fbc9d50-d363-4da2-d720-7b3a25046b9f"
      },
      "outputs": [
        {
          "output_type": "error",
          "ename": "ModuleNotFoundError",
          "evalue": "No module named 'arize'",
          "traceback": [
            "\u001b[0;31m---------------------------------------------------------------------------\u001b[0m",
            "\u001b[0;31mModuleNotFoundError\u001b[0m                       Traceback (most recent call last)",
            "\u001b[0;32m/tmp/ipython-input-2007608117.py\u001b[0m in \u001b[0;36m<cell line: 0>\u001b[0;34m()\u001b[0m\n\u001b[1;32m      6\u001b[0m \u001b[0;32mimport\u001b[0m \u001b[0mpandas\u001b[0m \u001b[0;32mas\u001b[0m \u001b[0mpd\u001b[0m\u001b[0;34m\u001b[0m\u001b[0;34m\u001b[0m\u001b[0m\n\u001b[1;32m      7\u001b[0m \u001b[0;32mimport\u001b[0m \u001b[0mrequests\u001b[0m\u001b[0;34m\u001b[0m\u001b[0;34m\u001b[0m\u001b[0m\n\u001b[0;32m----> 8\u001b[0;31m \u001b[0;32mfrom\u001b[0m \u001b[0marize\u001b[0m\u001b[0;34m.\u001b[0m\u001b[0motel\u001b[0m \u001b[0;32mimport\u001b[0m \u001b[0mregister\u001b[0m\u001b[0;34m\u001b[0m\u001b[0;34m\u001b[0m\u001b[0m\n\u001b[0m\u001b[1;32m      9\u001b[0m \u001b[0;32mfrom\u001b[0m \u001b[0mdotenv\u001b[0m \u001b[0;32mimport\u001b[0m \u001b[0mload_dotenv\u001b[0m\u001b[0;34m\u001b[0m\u001b[0;34m\u001b[0m\u001b[0m\n\u001b[1;32m     10\u001b[0m \u001b[0;32mfrom\u001b[0m \u001b[0mlangchain\u001b[0m\u001b[0;34m.\u001b[0m\u001b[0magents\u001b[0m \u001b[0;32mimport\u001b[0m \u001b[0mtool\u001b[0m\u001b[0;34m\u001b[0m\u001b[0;34m\u001b[0m\u001b[0m\n",
            "\u001b[0;31mModuleNotFoundError\u001b[0m: No module named 'arize'",
            "",
            "\u001b[0;31m---------------------------------------------------------------------------\u001b[0;32m\nNOTE: If your import is failing due to a missing package, you can\nmanually install dependencies using either !pip or !apt.\n\nTo view examples of installing some common dependencies, click the\n\"Open Examples\" button below.\n\u001b[0;31m---------------------------------------------------------------------------\u001b[0m\n"
          ],
          "errorDetails": {
            "actions": [
              {
                "action": "open_url",
                "actionText": "Open Examples",
                "url": "/notebooks/snippets/importing_libraries.ipynb"
              }
            ]
          }
        }
      ],
      "source": [
        "import os\n",
        "import sqlite3\n",
        "import uuid\n",
        "from ast import literal_eval\n",
        "\n",
        "import pandas as pd\n",
        "import requests\n",
        "from arize.otel import register\n",
        "from dotenv import load_dotenv\n",
        "from langchain.agents import tool\n",
        "from langchain_community.agent_toolkits import SQLDatabaseToolkit\n",
        "from langchain_community.utilities import SQLDatabase\n",
        "from langchain_core.messages import ToolMessage\n",
        "from langchain_core.prompts import ChatPromptTemplate\n",
        "from langchain_core.runnables import Runnable, RunnableConfig, RunnableLambda\n",
        "from langchain_openai import ChatOpenAI\n",
        "from langgraph.checkpoint.sqlite import SqliteSaver\n",
        "from langgraph.graph import END, StateGraph\n",
        "from langgraph.prebuilt import ToolNode, tools_condition\n",
        "from langgraph.prebuilt.tool_node import ToolNode\n",
        "from openinference.instrumentation.langchain import LangChainInstrumentor\n",
        "from tqdm import tqdm\n",
        "\n",
        "from phoenix.evals import (\n",
        "    SQL_GEN_EVAL_PROMPT_TEMPLATE,\n",
        "    SQL_GEN_EVAL_PROMPT_RAILS_MAP,\n",
        "    llm_classify,\n",
        "    OpenAIModel,\n",
        ")\n",
        "\n",
        "from getpass import getpass\n",
        "import numpy as np"
      ]
    },
    {
      "cell_type": "code",
      "execution_count": null,
      "id": "987ef7cc-b652-426c-9b88-c776c6bc98df",
      "metadata": {
        "id": "987ef7cc-b652-426c-9b88-c776c6bc98df"
      },
      "outputs": [],
      "source": [
        "load_dotenv()"
      ]
    },
    {
      "cell_type": "code",
      "execution_count": null,
      "id": "60db03c8-350c-4a0b-b02d-6671c05597ab",
      "metadata": {
        "id": "60db03c8-350c-4a0b-b02d-6671c05597ab"
      },
      "outputs": [],
      "source": [
        "if not (openai_api_key := os.getenv(\"OPENAI_API_KEY\")):\n",
        "    openai_api_key = getpass(\"🔑 Enter your OpenAI API key: \")\n",
        "os.environ[\"OPENAI_API_KEY\"] = openai_api_key"
      ]
    },
    {
      "cell_type": "markdown",
      "id": "a27bad45-a9f5-4b18-a27d-24758c13ca60",
      "metadata": {
        "id": "a27bad45-a9f5-4b18-a27d-24758c13ca60"
      },
      "source": [
        "## Configure the database\n",
        "\n",
        "We will be creating a SQLite database for this tutorial. SQLite is a lightweight database that is easy to set up and use. We will be loading the `chinook` database, which is a sample database that represents a digital media store.\n",
        "Find more information about the database [here](https://www.sqlitetutorial.net/sqlite-sample-database/).\n",
        "\n",
        "For convenience, we have hosted the database (`Chinook.db`) on a public GCS bucket."
      ]
    },
    {
      "cell_type": "code",
      "execution_count": null,
      "id": "7e2eacbf-33f5-499f-8ca7-95b8bc9131ed",
      "metadata": {
        "id": "7e2eacbf-33f5-499f-8ca7-95b8bc9131ed"
      },
      "outputs": [],
      "source": [
        "url = \"https://storage.googleapis.com/benchmarks-artifacts/chinook/Chinook.db\"\n",
        "\n",
        "response = requests.get(url)\n",
        "\n",
        "if response.status_code == 200:\n",
        "    # Open a local file in binary write mode\n",
        "    with open(\"Chinook.db\", \"wb\") as file:\n",
        "        # Write the content of the response (the file) to the local file\n",
        "        file.write(response.content)\n",
        "    print(\"File downloaded and saved as Chinook.db\")\n",
        "else:\n",
        "    print(f\"Failed to download the file. Status code: {response.status_code}\")"
      ]
    },
    {
      "cell_type": "markdown",
      "id": "cc583f74-5deb-433e-8490-f82a27380b5e",
      "metadata": {
        "id": "cc583f74-5deb-433e-8490-f82a27380b5e"
      },
      "source": [
        "We will use a handy SQL database wrapper available in the `langchain_community` package to interact with the database. The wrapper provides a simple interface to execute SQL queries and fetch results. We will also use the `langchain_openai` package to interact with the OpenAI API for language models later in the tutorial."
      ]
    },
    {
      "cell_type": "code",
      "execution_count": null,
      "id": "208f3a6d-370d-4cbc-9fe8-9f9eaf113f75",
      "metadata": {
        "id": "208f3a6d-370d-4cbc-9fe8-9f9eaf113f75"
      },
      "outputs": [],
      "source": [
        "db = SQLDatabase.from_uri(\"sqlite:///Chinook.db\")\n",
        "print(db.dialect)\n",
        "print(db.get_usable_table_names())\n",
        "db.run(\"SELECT * FROM Artist LIMIT 10;\")"
      ]
    },
    {
      "cell_type": "code",
      "execution_count": null,
      "id": "db1c1225-4b96-43b5-96af-ed1fc818c9e1",
      "metadata": {
        "id": "db1c1225-4b96-43b5-96af-ed1fc818c9e1"
      },
      "outputs": [],
      "source": [
        "db.run(\"SELECT * FROM Artist where name = 'Led Zeppelin';\")"
      ]
    },
    {
      "cell_type": "markdown",
      "id": "5511f80d-0972-465a-8682-d11dea94e58e",
      "metadata": {
        "id": "5511f80d-0972-465a-8682-d11dea94e58e"
      },
      "source": [
        "## SQL Agent\n",
        "\n",
        "We'll use a [LangGraph agent](https://www.langchain.com/agents) with access to a set of tools for working with SQL:\n",
        "\n",
        "![Screenshot 2024-06-06 at 2.05.05 PM.png](attachment:f548c34e-07b0-4d99-bc73-76527e1cc99b.png)\n",
        "\n",
        "### LLM"
      ]
    },
    {
      "cell_type": "code",
      "execution_count": null,
      "id": "408c3d65-a743-4d97-a949-afafbb519d18",
      "metadata": {
        "id": "408c3d65-a743-4d97-a949-afafbb519d18"
      },
      "outputs": [],
      "source": [
        "### gpt4o\n",
        "llm = ChatOpenAI(model=\"gpt-4o\", temperature=0)\n",
        "experiment_prefix = \"sql-agent-gpt4o\"\n",
        "metadata = \"Chinook, gpt-4o base-case-agent\""
      ]
    },
    {
      "cell_type": "markdown",
      "id": "28143ade-f540-483f-8ee4-91fa3ba6c0f3",
      "metadata": {
        "id": "28143ade-f540-483f-8ee4-91fa3ba6c0f3"
      },
      "source": [
        "### Tools\n",
        "\n",
        "We'll use [SQL toolkit](https://python.langchain.com/v0.2/docs/tutorials/sql_qa/#agents) as well as some custom tools to check the query before executing it and check the query result from the database to confirm it is not empty or irrelevant to the question."
      ]
    },
    {
      "cell_type": "code",
      "execution_count": null,
      "id": "4b7f0223-3d3f-4154-b776-992a9f8f6bc6",
      "metadata": {
        "id": "4b7f0223-3d3f-4154-b776-992a9f8f6bc6"
      },
      "outputs": [],
      "source": [
        "# SQL toolkit\n",
        "toolkit = SQLDatabaseToolkit(db=db, llm=llm)\n",
        "tools = toolkit.get_tools()\n",
        "\n",
        "# Query checking\n",
        "query_check_system = \"\"\"You are a SQL expert with a strong attention to detail.\n",
        "Double check the SQLite query for common mistakes, including:\n",
        "- Using NOT IN with NULL values\n",
        "- Using UNION when UNION ALL should have been used\n",
        "- Using BETWEEN for exclusive ranges\n",
        "- Data type mismatch in predicates\n",
        "- Properly quoting identifiers\n",
        "- Using the correct number of arguments for functions\n",
        "- Casting to the correct data type\n",
        "- Using the proper columns for joins\n",
        "\n",
        "If there are any of the above mistakes, rewrite the query. If there are no mistakes, just reproduce the original query.\n",
        "\n",
        "Execute the correct query with the appropriate tool.\"\"\"\n",
        "query_check_prompt = ChatPromptTemplate.from_messages(\n",
        "    [(\"system\", query_check_system), (\"user\", \"{query}\")]\n",
        ")\n",
        "query_check = query_check_prompt | llm\n",
        "\n",
        "\n",
        "@tool\n",
        "def check_query_tool(query: str) -> str:\n",
        "    \"\"\"\n",
        "    Use this tool to double check if your query is correct before executing it.\n",
        "    \"\"\"\n",
        "    return query_check.invoke({\"query\": query}).content\n",
        "\n",
        "\n",
        "# Query result checking\n",
        "query_result_check_system = \"\"\"You are grading the result of a SQL query from a DB.\n",
        "- Check that the result is not empty.\n",
        "- If it is empty, instruct the system to re-try!\"\"\"\n",
        "query_result_check_prompt = ChatPromptTemplate.from_messages(\n",
        "    [(\"system\", query_result_check_system), (\"user\", \"{query_result}\")]\n",
        ")\n",
        "query_result_check = query_result_check_prompt | llm\n",
        "\n",
        "\n",
        "@tool\n",
        "def check_result(query_result: str) -> str:\n",
        "    \"\"\"\n",
        "    Use this tool to check the query result from the database to confirm it is not empty and is relevant.\n",
        "    \"\"\"\n",
        "    return query_result_check.invoke({\"query_result\": query_result}).content\n",
        "\n",
        "\n",
        "tools.append(check_query_tool)\n",
        "tools.append(check_result)"
      ]
    },
    {
      "cell_type": "markdown",
      "id": "b59a6f2c-01e3-4ede-94a2-f8e271594908",
      "metadata": {
        "id": "b59a6f2c-01e3-4ede-94a2-f8e271594908"
      },
      "source": [
        "### State"
      ]
    },
    {
      "cell_type": "code",
      "execution_count": null,
      "id": "d1265555-86a0-428c-9cb0-a446285d5544",
      "metadata": {
        "id": "d1265555-86a0-428c-9cb0-a446285d5544"
      },
      "outputs": [],
      "source": [
        "from typing import Annotated\n",
        "from typing_extensions import TypedDict\n",
        "from langgraph.graph.message import AnyMessage, add_messages\n",
        "\n",
        "\n",
        "class State(TypedDict):\n",
        "    messages: Annotated[list[AnyMessage], add_messages]"
      ]
    },
    {
      "cell_type": "markdown",
      "id": "56eb19b1-3397-4897-ad16-5d3eb018157b",
      "metadata": {
        "id": "56eb19b1-3397-4897-ad16-5d3eb018157b"
      },
      "source": [
        "### SQL Assistant\n",
        "\n",
        "Here, we lay out the instructions of our agent, building on this [prompt](https://python.langchain.com/v0.2/docs/tutorials/sql_qa/#agents)."
      ]
    },
    {
      "cell_type": "code",
      "execution_count": null,
      "id": "7c507d11-146b-4af9-9e1a-01c9795d3984",
      "metadata": {
        "id": "7c507d11-146b-4af9-9e1a-01c9795d3984"
      },
      "outputs": [],
      "source": [
        "# Assistant\n",
        "class Assistant:\n",
        "    def __init__(self, runnable: Runnable):\n",
        "        self.runnable = runnable\n",
        "\n",
        "    def __call__(self, state: State, config: RunnableConfig):\n",
        "        while True:\n",
        "            # Append to state\n",
        "            state = {**state}\n",
        "            # Invoke the tool-calling LLM\n",
        "            result = self.runnable.invoke(state)\n",
        "            # If it is a tool call -> response is valid\n",
        "            # If it has meaninful text -> response is valid\n",
        "            # Otherwise, we re-prompt it b/c response is not meaninful\n",
        "            if not result.tool_calls and (\n",
        "                not result.content\n",
        "                or isinstance(result.content, list)\n",
        "                and not result.content[0].get(\"text\")\n",
        "            ):\n",
        "                messages = state[\"messages\"] + [\n",
        "                    (\"user\", \"Respond with a real output.\")\n",
        "                ]\n",
        "                state = {**state, \"messages\": messages}\n",
        "            else:\n",
        "                break\n",
        "        return {\"messages\": result}\n",
        "\n",
        "\n",
        "# Assistant runnable\n",
        "query_gen_system = \"\"\"\n",
        "ROLE:\n",
        "You are an agent designed to interact with a SQL database. You have access to tools for interacting with the database.\n",
        "GOAL:\n",
        "Given an input question, create a syntactically correct SQLite query to run, then look at the results of the query and return the answer.\n",
        "INSTRUCTIONS:\n",
        "- Only use the below tools for the following operations.\n",
        "- Only use the information returned by the below tools to construct your final answer.\n",
        "- To start you should ALWAYS look at the tables in the database to see what you can query. Do NOT skip this step.\n",
        "- Then you should query the schema of the most relevant tables.\n",
        "- Write your query based upon the schema of the tables. You MUST double check your query before executing it.\n",
        "- Unless the user specifies a specific number of examples they wish to obtain, always limit your query to at most 5 results.\n",
        "- You can order the results by a relevant column to return the most interesting examples in the database.\n",
        "- Never query for all the columns from a specific table, only ask for the relevant columns given the question.\n",
        "- If you get an error while executing a query, rewrite the query and try again.\n",
        "- If the query returns a result, use check_result tool to check the query result.\n",
        "- If the query result result is empty, think about the table schema, rewrite the query, and try again.\n",
        "- DO NOT make any DML statements (INSERT, UPDATE, DELETE, DROP etc.) to the database.\"\"\"\n",
        "\n",
        "query_gen_prompt = ChatPromptTemplate.from_messages(\n",
        "    [(\"system\", query_gen_system), (\"placeholder\", \"{messages}\")]\n",
        ")\n",
        "assistant_runnable = query_gen_prompt | llm.bind_tools(tools)"
      ]
    },
    {
      "cell_type": "markdown",
      "id": "f1a06a20-5082-43cb-a938-d69de40bea11",
      "metadata": {
        "id": "f1a06a20-5082-43cb-a938-d69de40bea11"
      },
      "source": [
        "### Graph Utilities\n",
        "\n",
        "We will define a few utility functions to help us with the agent implementation. Specifically, we will wrap a ToolNode with a fallback to handle errors and surface them to the agent."
      ]
    },
    {
      "cell_type": "code",
      "execution_count": null,
      "id": "e226e2ba-1251-411b-9a85-b239cd623eb6",
      "metadata": {
        "id": "e226e2ba-1251-411b-9a85-b239cd623eb6"
      },
      "outputs": [],
      "source": [
        "def create_tool_node_with_fallback(tools: list) -> dict:\n",
        "    return ToolNode(tools).with_fallbacks(\n",
        "        [RunnableLambda(handle_tool_error)], exception_key=\"error\"\n",
        "    )\n",
        "\n",
        "\n",
        "def _print_event(event: dict, _printed: set, max_length=1500):\n",
        "    current_state = event.get(\"dialog_state\")\n",
        "    if current_state:\n",
        "        print(\"Currently in: \", current_state[-1])\n",
        "    message = event.get(\"messages\")\n",
        "    if message:\n",
        "        if isinstance(message, list):\n",
        "            message = message[-1]\n",
        "        if message.id not in _printed:\n",
        "            msg_repr = message.pretty_repr(html=True)\n",
        "            if len(msg_repr) > max_length:\n",
        "                msg_repr = msg_repr[:max_length] + \" ... (truncated)\"\n",
        "            print(msg_repr)\n",
        "            _printed.add(message.id)\n",
        "\n",
        "\n",
        "def handle_tool_error(state) -> dict:\n",
        "    error = state.get(\"error\")\n",
        "    tool_calls = state[\"messages\"][-1].tool_calls\n",
        "    return {\n",
        "        \"messages\": [\n",
        "            ToolMessage(\n",
        "                content=f\"Error: {repr(error)}\\n please fix your mistakes.\",\n",
        "                tool_call_id=tc[\"id\"],\n",
        "            )\n",
        "            for tc in tool_calls\n",
        "        ]\n",
        "    }"
      ]
    },
    {
      "cell_type": "markdown",
      "id": "2833388c-2012-4ad2-a7e9-151cb843b92a",
      "metadata": {
        "id": "2833388c-2012-4ad2-a7e9-151cb843b92a"
      },
      "source": [
        "### Graph\n",
        "\n",
        "We will then define the workflow for the agent."
      ]
    },
    {
      "cell_type": "code",
      "execution_count": null,
      "id": "656aa748-3114-42c0-af53-f05a291849d2",
      "metadata": {
        "id": "656aa748-3114-42c0-af53-f05a291849d2"
      },
      "outputs": [],
      "source": [
        "# Graph\n",
        "builder = StateGraph(State)\n",
        "\n",
        "# Define nodes: these do the work\n",
        "builder.add_node(\"assistant\", Assistant(assistant_runnable))\n",
        "builder.add_node(\"tools\", create_tool_node_with_fallback(tools))\n",
        "\n",
        "# Define edges: these determine how the control flow moves\n",
        "builder.set_entry_point(\"assistant\")\n",
        "builder.add_conditional_edges(\n",
        "    \"assistant\",\n",
        "    # If the latest message (result) from assistant is a tool call -> tools_condition routes to tools\n",
        "    # If the latest message (result) from assistant is a not a tool call -> tools_condition routes to END\n",
        "    tools_condition,\n",
        "    # \"tools\" calls one of our tools. END causes the graph to terminate (and respond to the user)\n",
        "    {\"tools\": \"tools\", END: END},\n",
        ")\n",
        "builder.add_edge(\"tools\", \"assistant\")\n",
        "\n",
        "# The checkpointer lets the graph persist its state\n",
        "memory = SqliteSaver.from_conn_string(\":memory:\")"
      ]
    },
    {
      "cell_type": "markdown",
      "id": "de26262f-3783-469a-a8c5-f0768b286a4f",
      "metadata": {
        "id": "de26262f-3783-469a-a8c5-f0768b286a4f"
      },
      "source": [
        "### Auto-Instrument Agent"
      ]
    },
    {
      "cell_type": "code",
      "execution_count": null,
      "id": "e5148a61-2d20-4580-b4a9-d240eb835396",
      "metadata": {
        "id": "e5148a61-2d20-4580-b4a9-d240eb835396"
      },
      "outputs": [],
      "source": [
        "ARIZE_SPACE_ID = os.getenv(\"ARIZE_SPACE_ID\")  # in app space settings page\n",
        "ARIZE_API_KEY = os.getenv(\"ARIZE_API_KEY\")  # in app space settings page\n",
        "PROJECT_NAME = \"arize_langgraph_tutorial\""
      ]
    },
    {
      "cell_type": "code",
      "execution_count": null,
      "id": "33bb671f-915c-46b6-b318-a50aa497d6d0",
      "metadata": {
        "id": "33bb671f-915c-46b6-b318-a50aa497d6d0"
      },
      "outputs": [],
      "source": [
        "tracer_provider = register(\n",
        "    space_id=ARIZE_SPACE_ID,  # in app space settings page\n",
        "    api_key=ARIZE_API_KEY,  # in app space settings page\n",
        "    project_name=PROJECT_NAME,  # name this to whatever you would like\n",
        ")\n",
        "\n",
        "LangChainInstrumentor().instrument(tracer_provider=tracer_provider)"
      ]
    },
    {
      "cell_type": "markdown",
      "id": "dc5c317a-16b2-464d-b977-b5f8e6f2c12d",
      "metadata": {
        "id": "dc5c317a-16b2-464d-b977-b5f8e6f2c12d"
      },
      "source": [
        "### Invoke Agent"
      ]
    },
    {
      "cell_type": "code",
      "execution_count": null,
      "id": "0a737a46-58d9-4add-983e-65eb80269f49",
      "metadata": {
        "id": "0a737a46-58d9-4add-983e-65eb80269f49"
      },
      "outputs": [],
      "source": [
        "sqlite3_conn = sqlite3.connect(\"Chinook.db\", check_same_thread=False)\n",
        "sqlite3_memory_checkpoint = SqliteSaver(sqlite3_conn)\n",
        "\n",
        "graph = builder.compile(checkpointer=sqlite3_memory_checkpoint)"
      ]
    },
    {
      "cell_type": "code",
      "execution_count": null,
      "id": "75f18f52-abdc-40f3-bf43-1467225e5740",
      "metadata": {
        "id": "75f18f52-abdc-40f3-bf43-1467225e5740"
      },
      "outputs": [],
      "source": [
        "questions = [\n",
        "    \"Which country's customers spent the most? And how much did they spend?\",\n",
        "    \"How many albums does the artist Led Zeppelin have?\",\n",
        "    \"What was the most purchased track of 2017?\",\n",
        "    \"Which sales agent made the most in sales in 2009?\",\n",
        "]"
      ]
    },
    {
      "cell_type": "code",
      "execution_count": null,
      "id": "91aec2ed-7cad-4dee-b368-bb5e78f9cce7",
      "metadata": {
        "id": "91aec2ed-7cad-4dee-b368-bb5e78f9cce7"
      },
      "outputs": [],
      "source": [
        "for question in tqdm(questions):\n",
        "    _printed = set()\n",
        "    thread_id = str(uuid.uuid4())\n",
        "\n",
        "    config = {\n",
        "        \"configurable\": {\n",
        "            # Checkpoints are accessed by thread_id\n",
        "            \"thread_id\": thread_id,\n",
        "        }\n",
        "    }\n",
        "\n",
        "    msg = {\"messages\": (\"user\", question)}\n",
        "\n",
        "    messages = graph.invoke(msg, config)"
      ]
    },
    {
      "cell_type": "markdown",
      "id": "687f8f02-9e43-45f8-891e-403d17041d79",
      "metadata": {
        "id": "687f8f02-9e43-45f8-891e-403d17041d79"
      },
      "source": [
        "## Export Data, and Run Evals"
      ]
    },
    {
      "cell_type": "code",
      "execution_count": null,
      "id": "c1b9d553-29f6-4aab-9d5e-9bbfaa92711f",
      "metadata": {
        "id": "c1b9d553-29f6-4aab-9d5e-9bbfaa92711f"
      },
      "outputs": [],
      "source": [
        "ARIZE_API_KEY = \"\"\n",
        "\n",
        "import os\n",
        "\n",
        "os.environ[\"ARIZE_API_KEY\"] = ARIZE_API_KEY\n",
        "\n",
        "from datetime import datetime\n",
        "\n",
        "from arize.exporter import ArizeExportClient\n",
        "from arize.utils.types import Environments\n",
        "\n",
        "client = ArizeExportClient()\n",
        "\n",
        "print(\"#### Exporting your primary dataset into a dataframe.\")\n",
        "\n",
        "trace_df = client.export_model_to_df(\n",
        "    space_id=os.getenv(\"ARIZE_SPACE_ID\"),\n",
        "    model_id=PROJECT_NAME,\n",
        "    environment=Environments.TRACING,\n",
        "    start_time=datetime.fromisoformat(\"2024-10-01T06:00:00.000+00:00\"),\n",
        "    end_time=datetime.fromisoformat(\"2024-10-04T05:59:59.999+00:00\"),\n",
        "    where=\"name = 'LangGraph'\",\n",
        ")"
      ]
    },
    {
      "cell_type": "code",
      "execution_count": null,
      "id": "1276fed4-8084-4131-b6dd-af9a5e24ba63",
      "metadata": {
        "id": "1276fed4-8084-4131-b6dd-af9a5e24ba63"
      },
      "outputs": [],
      "source": [
        "subset_df = trace_df[\n",
        "    [\n",
        "        \"context.span_id\",\n",
        "        \"attributes.input.value\",\n",
        "        \"attributes.output.value\",\n",
        "        \"attributes.metadata\",\n",
        "    ]\n",
        "][trace_df[\"attributes.metadata\"].notna()].reset_index(drop=True)"
      ]
    },
    {
      "cell_type": "code",
      "execution_count": null,
      "id": "d697b0ec-214c-4ee8-a5e3-d7257312a210",
      "metadata": {
        "id": "d697b0ec-214c-4ee8-a5e3-d7257312a210"
      },
      "outputs": [],
      "source": [
        "def format_input(text):\n",
        "    return literal_eval(text)[\"messages\"][1]"
      ]
    },
    {
      "cell_type": "code",
      "execution_count": null,
      "id": "eeaa7d48-ac36-4185-80d7-9e66e9e6be9c",
      "metadata": {
        "id": "eeaa7d48-ac36-4185-80d7-9e66e9e6be9c"
      },
      "outputs": [],
      "source": [
        "subset_df[\"question\"] = subset_df[\"attributes.input.value\"].apply(format_input)"
      ]
    },
    {
      "cell_type": "code",
      "execution_count": null,
      "id": "2556bab3-6627-4075-96f8-b936ad73c2cd",
      "metadata": {
        "id": "2556bab3-6627-4075-96f8-b936ad73c2cd"
      },
      "outputs": [],
      "source": [
        "def format_sql_query(text):\n",
        "    temp_query = (\n",
        "        literal_eval(text)[\"messages\"][-3]\n",
        "        .split(\"{'arguments': '\")[1]\n",
        "        .split(\";\")[0]\n",
        "    )\n",
        "\n",
        "    return temp_query.split(\"query\")[1].split(\":\")[1].strip()"
      ]
    },
    {
      "cell_type": "code",
      "execution_count": null,
      "id": "6088b2c0-f6ba-4ca1-994c-d54f81446f0f",
      "metadata": {
        "id": "6088b2c0-f6ba-4ca1-994c-d54f81446f0f"
      },
      "outputs": [],
      "source": [
        "subset_df[\"query_gen\"] = subset_df[\"attributes.output.value\"].apply(\n",
        "    format_sql_query\n",
        ")"
      ]
    },
    {
      "cell_type": "code",
      "execution_count": null,
      "id": "e7987826-83ac-4f03-9fc0-8845c97d9f46",
      "metadata": {
        "id": "e7987826-83ac-4f03-9fc0-8845c97d9f46"
      },
      "outputs": [],
      "source": [
        "def format_output(text):\n",
        "    return (\n",
        "        literal_eval(text)[\"messages\"][-1]\n",
        "        .split(\"additional_kwargs\")[0]\n",
        "        .split(\"content=\")[-1]\n",
        "    )"
      ]
    },
    {
      "cell_type": "code",
      "execution_count": null,
      "id": "766050ba-4303-4aa6-933c-39c35cd4ea87",
      "metadata": {
        "id": "766050ba-4303-4aa6-933c-39c35cd4ea87"
      },
      "outputs": [],
      "source": [
        "subset_df[\"response\"] = subset_df[\"attributes.output.value\"].apply(\n",
        "    format_output\n",
        ")"
      ]
    },
    {
      "cell_type": "markdown",
      "id": "e5bb69dd-4a6d-495a-924e-6168b058a40c",
      "metadata": {
        "id": "e5bb69dd-4a6d-495a-924e-6168b058a40c"
      },
      "source": [
        "### Eval - SQL Generation"
      ]
    },
    {
      "cell_type": "code",
      "execution_count": null,
      "id": "43f8bba5-8331-4cdd-a6fa-8e183df859ab",
      "metadata": {
        "id": "43f8bba5-8331-4cdd-a6fa-8e183df859ab"
      },
      "outputs": [],
      "source": [
        "import nest_asyncio\n",
        "\n",
        "nest_asyncio.apply()"
      ]
    },
    {
      "cell_type": "code",
      "execution_count": null,
      "id": "15386bed-f0c0-417a-b085-c82ca8cda071",
      "metadata": {
        "id": "15386bed-f0c0-417a-b085-c82ca8cda071"
      },
      "outputs": [],
      "source": [
        "rails = list(SQL_GEN_EVAL_PROMPT_RAILS_MAP.values())\n",
        "\n",
        "model = OpenAIModel(\n",
        "    model=\"gpt-4o\",\n",
        "    temperature=0.0,\n",
        ")\n",
        "\n",
        "\n",
        "relevance_classifications = llm_classify(\n",
        "    dataframe=subset_df,\n",
        "    template=SQL_GEN_EVAL_PROMPT_TEMPLATE,\n",
        "    model=model,\n",
        "    rails=rails,\n",
        "    provide_explanation=True,\n",
        ")"
      ]
    },
    {
      "cell_type": "code",
      "execution_count": null,
      "id": "499ff1e9-ba7a-43af-8787-4ebf46e73bb9",
      "metadata": {
        "id": "499ff1e9-ba7a-43af-8787-4ebf46e73bb9"
      },
      "outputs": [],
      "source": [
        "relevance_classifications = relevance_classifications[[\"label\", \"explanation\"]]"
      ]
    },
    {
      "cell_type": "code",
      "execution_count": null,
      "id": "75aaa400-b6bd-4a06-bcae-fbba9468b015",
      "metadata": {
        "id": "75aaa400-b6bd-4a06-bcae-fbba9468b015"
      },
      "outputs": [],
      "source": [
        "relevance_classifications = relevance_classifications.rename(\n",
        "    columns={\n",
        "        \"label\": \"eval.SQL Generation.label\",\n",
        "        \"explanation\": \"eval.SQL Generation.explanation\",\n",
        "    }\n",
        ")"
      ]
    },
    {
      "cell_type": "code",
      "execution_count": null,
      "id": "2cba8dc7-3fea-4b08-b9cb-0ed541d34e60",
      "metadata": {
        "id": "2cba8dc7-3fea-4b08-b9cb-0ed541d34e60"
      },
      "outputs": [],
      "source": [
        "relevance_classifications[\"eval.SQL Generation.score\"] = np.where(\n",
        "    relevance_classifications[\"eval.SQL Generation.label\"] == \"correct\", 1, 0\n",
        ")"
      ]
    },
    {
      "cell_type": "code",
      "execution_count": null,
      "id": "717e635c-8f77-472d-a96f-5e3d4d04a5f4",
      "metadata": {
        "id": "717e635c-8f77-472d-a96f-5e3d4d04a5f4"
      },
      "outputs": [],
      "source": [
        "subset_df[\"correct_answer\"] = pd.Series(\n",
        "    [\n",
        "        \"The country whose customers spent the most is the USA, with a total expenditure of $523.06\",\n",
        "        \"Led Zeppelin has 14 albums\",\n",
        "        \"The most purchased track of 2017 was Hot Girl.\",\n",
        "        \"Steve Johnson made the most sales in 2009\",\n",
        "    ]\n",
        ")"
      ]
    },
    {
      "cell_type": "code",
      "execution_count": null,
      "id": "0d588712-53b3-47cd-943c-f73146043cb7",
      "metadata": {
        "id": "0d588712-53b3-47cd-943c-f73146043cb7"
      },
      "outputs": [],
      "source": [
        "subset_df[\"ai_generated_answer\"] = subset_df[\"response\"].copy()"
      ]
    },
    {
      "cell_type": "code",
      "execution_count": null,
      "id": "5efc9942-c6a8-4af2-b724-f8083ae79dbc",
      "metadata": {
        "id": "5efc9942-c6a8-4af2-b724-f8083ae79dbc"
      },
      "outputs": [],
      "source": [
        "from phoenix.evals import (\n",
        "    HUMAN_VS_AI_PROMPT_RAILS_MAP,\n",
        "    HUMAN_VS_AI_PROMPT_TEMPLATE,\n",
        ")\n",
        "\n",
        "# The rails is used to hold the output to specific values based on the template\n",
        "# It will remove text such as \",,,\" or \"...\"\n",
        "# Will ensure the binary value expected from the template is returned\n",
        "rails = list(HUMAN_VS_AI_PROMPT_RAILS_MAP.values())\n",
        "ai_human_classifications = llm_classify(\n",
        "    dataframe=subset_df,\n",
        "    template=HUMAN_VS_AI_PROMPT_TEMPLATE,\n",
        "    model=model,\n",
        "    rails=rails,\n",
        "    verbose=False,\n",
        "    provide_explanation=True,\n",
        ")"
      ]
    },
    {
      "cell_type": "code",
      "execution_count": null,
      "id": "dc19a5f4-8cbb-41c6-bf67-01139addee1f",
      "metadata": {
        "id": "dc19a5f4-8cbb-41c6-bf67-01139addee1f"
      },
      "outputs": [],
      "source": [
        "ai_human_classifications = ai_human_classifications[[\"label\", \"explanation\"]]"
      ]
    },
    {
      "cell_type": "code",
      "execution_count": null,
      "id": "e2487594-6b69-4088-be52-38e562906ff3",
      "metadata": {
        "id": "e2487594-6b69-4088-be52-38e562906ff3"
      },
      "outputs": [],
      "source": [
        "ai_human_classifications = ai_human_classifications.rename(\n",
        "    columns={\n",
        "        \"label\": \"eval.AI Groundtruth.label\",\n",
        "        \"explanation\": \"eval.AI Groundtruth.explanation\",\n",
        "    }\n",
        ")"
      ]
    },
    {
      "cell_type": "code",
      "execution_count": null,
      "id": "0e229977-a3a5-44f5-bbcc-36e5867ac77d",
      "metadata": {
        "id": "0e229977-a3a5-44f5-bbcc-36e5867ac77d"
      },
      "outputs": [],
      "source": [
        "ai_human_classifications[\"eval.AI Groundtruth.score\"] = np.where(\n",
        "    ai_human_classifications[\"eval.AI Groundtruth.label\"] == \"correct\", 1, 0\n",
        ")"
      ]
    },
    {
      "cell_type": "code",
      "execution_count": null,
      "id": "422daf32-482f-482c-bc18-df8f55530ca9",
      "metadata": {
        "id": "422daf32-482f-482c-bc18-df8f55530ca9"
      },
      "outputs": [],
      "source": [
        "evals_df = pd.concat(\n",
        "    [\n",
        "        subset_df[[\"context.span_id\"]],\n",
        "        relevance_classifications,\n",
        "        ai_human_classifications,\n",
        "    ],\n",
        "    axis=1,\n",
        ")"
      ]
    },
    {
      "cell_type": "code",
      "execution_count": null,
      "id": "6c875804-9e40-4752-ad57-6de75a269cac",
      "metadata": {
        "id": "6c875804-9e40-4752-ad57-6de75a269cac"
      },
      "outputs": [],
      "source": [
        "import os\n",
        "from arize.pandas.logger import Client\n",
        "\n",
        "# Initialize Arize client using the model_id of your traces\n",
        "arize_client = Client(\n",
        "    space_id=os.getenv(\"ARIZE_SPACE_ID\"), api_key=os.getenv(\"ARIZE_API_KEY\")\n",
        ")\n",
        "\n",
        "# Set the evals_df to have the correct span ID to log it to Arize\n",
        "evals_df = evals_df.set_index(evals_df[\"context.span_id\"])\n",
        "\n",
        "# Use Arize client to log evaluations\n",
        "response = arize_client.log_evaluations(\n",
        "    dataframe=evals_df,\n",
        "    model_id=MODEL_NAME,\n",
        ")\n",
        "\n",
        "# If successful, the server will return a status_code of 200\n",
        "if response.status_code != 200:\n",
        "    print(\n",
        "        f\"❌ logging failed with response code {response.status_code}, {response.text}\"\n",
        "    )\n",
        "else:\n",
        "    print(\"✅ You have successfully logged evaluations to Arize\")"
      ]
    },
    {
      "cell_type": "code",
      "execution_count": null,
      "id": "a41b7f7f-5fe6-412a-9fed-dee533ddaa98",
      "metadata": {
        "id": "a41b7f7f-5fe6-412a-9fed-dee533ddaa98"
      },
      "outputs": [],
      "source": []
    },
    {
      "cell_type": "code",
      "metadata": {
        "colab": {
          "base_uri": "https://localhost:8080/"
        },
        "id": "3faedc88",
        "outputId": "8240114c-0d7f-4668-9641-b6947d713049"
      },
      "source": [
        "%pip install --quiet --upgrade arize-otel"
      ],
      "id": "3faedc88",
      "execution_count": 4,
      "outputs": [
        {
          "output_type": "stream",
          "name": "stdout",
          "text": [
            "\u001b[?25l   \u001b[90m━━━━━━━━━━━━━━━━━━━━━━━━━━━━━━━━━━━━━━━━\u001b[0m \u001b[32m0.0/72.5 kB\u001b[0m \u001b[31m?\u001b[0m eta \u001b[36m-:--:--\u001b[0m\r\u001b[2K   \u001b[90m━━━━━━━━━━━━━━━━━━━━━━━━━━━━━━━━━━━━━━━━\u001b[0m \u001b[32m72.5/72.5 kB\u001b[0m \u001b[31m3.4 MB/s\u001b[0m eta \u001b[36m0:00:00\u001b[0m\n",
            "\u001b[?25h\u001b[?25l   \u001b[90m━━━━━━━━━━━━━━━━━━━━━━━━━━━━━━━━━━━━━━━━\u001b[0m \u001b[32m0.0/120.0 kB\u001b[0m \u001b[31m?\u001b[0m eta \u001b[36m-:--:--\u001b[0m\r\u001b[2K   \u001b[90m━━━━━━━━━━━━━━━━━━━━━━━━━━━━━━━━━━━━━━━━\u001b[0m \u001b[32m120.0/120.0 kB\u001b[0m \u001b[31m9.4 MB/s\u001b[0m eta \u001b[36m0:00:00\u001b[0m\n",
            "\u001b[2K   \u001b[90m━━━━━━━━━━━━━━━━━━━━━━━━━━━━━━━━━━━━━━━━\u001b[0m \u001b[32m65.6/65.6 kB\u001b[0m \u001b[31m3.0 MB/s\u001b[0m eta \u001b[36m0:00:00\u001b[0m\n",
            "\u001b[2K   \u001b[90m━━━━━━━━━━━━━━━━━━━━━━━━━━━━━━━━━━━━━━━━\u001b[0m \u001b[32m201.6/201.6 kB\u001b[0m \u001b[31m14.8 MB/s\u001b[0m eta \u001b[36m0:00:00\u001b[0m\n",
            "\u001b[?25h"
          ]
        }
      ]
    },
    {
      "cell_type": "code",
      "metadata": {
        "colab": {
          "base_uri": "https://localhost:8080/"
        },
        "id": "5e36184c",
        "outputId": "f6b137a5-45a9-4366-9182-1db1de76d65a"
      },
      "source": [
        "import os\n",
        "import sqlite3\n",
        "import uuid\n",
        "from ast import literal_eval\n",
        "\n",
        "import pandas as pd\n",
        "import requests\n",
        "from arize.otel import register\n",
        "from dotenv import load_dotenv\n",
        "from langchain.agents import tool\n",
        "from langchain_community.agent_toolkits import SQLDatabaseToolkit\n",
        "from langchain_community.utilities import SQLDatabase\n",
        "from langchain_core.messages import ToolMessage\n",
        "from langchain_core.prompts import ChatPromptTemplate\n",
        "from langchain_core.runnables import Runnable, RunnableConfig, RunnableLambda\n",
        "from langchain_openai import ChatOpenAI\n",
        "from langgraph.checkpoint.sqlite import SqliteSaver\n",
        "from langgraph.graph import END, StateGraph\n",
        "from langgraph.prebuilt import ToolNode, tools_condition\n",
        "from langgraph.prebuilt.tool_node import ToolNode\n",
        "from openinference.instrumentation.langchain import LangChainInstrumentor\n",
        "from tqdm import tqdm\n",
        "\n",
        "from phoenix.evals import (\n",
        "    SQL_GEN_EVAL_PROMPT_TEMPLATE,\n",
        "    SQL_GEN_EVAL_PROMPT_RAILS_MAP,\n",
        "    llm_classify,\n",
        "    OpenAIModel,\n",
        ")\n",
        "\n",
        "from getpass import getpass\n",
        "import numpy as np"
      ],
      "id": "5e36184c",
      "execution_count": 5,
      "outputs": [
        {
          "output_type": "error",
          "ename": "ModuleNotFoundError",
          "evalue": "No module named 'dotenv'",
          "traceback": [
            "\u001b[0;31m---------------------------------------------------------------------------\u001b[0m",
            "\u001b[0;31mModuleNotFoundError\u001b[0m                       Traceback (most recent call last)",
            "\u001b[0;32m/tmp/ipython-input-2007608117.py\u001b[0m in \u001b[0;36m<cell line: 0>\u001b[0;34m()\u001b[0m\n\u001b[1;32m      7\u001b[0m \u001b[0;32mimport\u001b[0m \u001b[0mrequests\u001b[0m\u001b[0;34m\u001b[0m\u001b[0;34m\u001b[0m\u001b[0m\n\u001b[1;32m      8\u001b[0m \u001b[0;32mfrom\u001b[0m \u001b[0marize\u001b[0m\u001b[0;34m.\u001b[0m\u001b[0motel\u001b[0m \u001b[0;32mimport\u001b[0m \u001b[0mregister\u001b[0m\u001b[0;34m\u001b[0m\u001b[0;34m\u001b[0m\u001b[0m\n\u001b[0;32m----> 9\u001b[0;31m \u001b[0;32mfrom\u001b[0m \u001b[0mdotenv\u001b[0m \u001b[0;32mimport\u001b[0m \u001b[0mload_dotenv\u001b[0m\u001b[0;34m\u001b[0m\u001b[0;34m\u001b[0m\u001b[0m\n\u001b[0m\u001b[1;32m     10\u001b[0m \u001b[0;32mfrom\u001b[0m \u001b[0mlangchain\u001b[0m\u001b[0;34m.\u001b[0m\u001b[0magents\u001b[0m \u001b[0;32mimport\u001b[0m \u001b[0mtool\u001b[0m\u001b[0;34m\u001b[0m\u001b[0;34m\u001b[0m\u001b[0m\n\u001b[1;32m     11\u001b[0m \u001b[0;32mfrom\u001b[0m \u001b[0mlangchain_community\u001b[0m\u001b[0;34m.\u001b[0m\u001b[0magent_toolkits\u001b[0m \u001b[0;32mimport\u001b[0m \u001b[0mSQLDatabaseToolkit\u001b[0m\u001b[0;34m\u001b[0m\u001b[0;34m\u001b[0m\u001b[0m\n",
            "\u001b[0;31mModuleNotFoundError\u001b[0m: No module named 'dotenv'",
            "",
            "\u001b[0;31m---------------------------------------------------------------------------\u001b[0;32m\nNOTE: If your import is failing due to a missing package, you can\nmanually install dependencies using either !pip or !apt.\n\nTo view examples of installing some common dependencies, click the\n\"Open Examples\" button below.\n\u001b[0;31m---------------------------------------------------------------------------\u001b[0m\n"
          ],
          "errorDetails": {
            "actions": [
              {
                "action": "open_url",
                "actionText": "Open Examples",
                "url": "/notebooks/snippets/importing_libraries.ipynb"
              }
            ]
          }
        }
      ]
    },
    {
      "cell_type": "code",
      "metadata": {
        "id": "25d6025e"
      },
      "source": [
        "%pip install --quiet python-dotenv"
      ],
      "id": "25d6025e",
      "execution_count": 6,
      "outputs": []
    },
    {
      "cell_type": "code",
      "metadata": {
        "colab": {
          "base_uri": "https://localhost:8080/"
        },
        "id": "be6caf58",
        "outputId": "39e9277e-6403-4fa1-dfd8-f9208270cbe8"
      },
      "source": [
        "import os\n",
        "import sqlite3\n",
        "import uuid\n",
        "from ast import literal_eval\n",
        "\n",
        "import pandas as pd\n",
        "import requests\n",
        "from arize.otel import register\n",
        "from dotenv import load_dotenv\n",
        "from langchain.agents import tool\n",
        "from langchain_community.agent_toolkits import SQLDatabaseToolkit\n",
        "from langchain_community.utilities import SQLDatabase\n",
        "from langchain_core.messages import ToolMessage\n",
        "from langchain_core.prompts import ChatPromptTemplate\n",
        "from langchain_core.runnables import Runnable, RunnableConfig, RunnableLambda\n",
        "from langchain_openai import ChatOpenAI\n",
        "from langgraph.checkpoint.sqlite import SqliteSaver\n",
        "from langgraph.graph import END, StateGraph\n",
        "from langgraph.prebuilt import ToolNode, tools_condition\n",
        "from langgraph.prebuilt.tool_node import ToolNode\n",
        "from openinference.instrumentation.langchain import LangChainInstrumentor\n",
        "from tqdm import tqdm\n",
        "\n",
        "from phoenix.evals import (\n",
        "    SQL_GEN_EVAL_PROMPT_TEMPLATE,\n",
        "    SQL_GEN_EVAL_PROMPT_RAILS_MAP,\n",
        "    llm_classify,\n",
        "    OpenAIModel,\n",
        ")\n",
        "\n",
        "from getpass import getpass\n",
        "import numpy as np"
      ],
      "id": "be6caf58",
      "execution_count": 7,
      "outputs": [
        {
          "output_type": "error",
          "ename": "ModuleNotFoundError",
          "evalue": "No module named 'langchain_community'",
          "traceback": [
            "\u001b[0;31m---------------------------------------------------------------------------\u001b[0m",
            "\u001b[0;31mModuleNotFoundError\u001b[0m                       Traceback (most recent call last)",
            "\u001b[0;32m/tmp/ipython-input-2007608117.py\u001b[0m in \u001b[0;36m<cell line: 0>\u001b[0;34m()\u001b[0m\n\u001b[1;32m      9\u001b[0m \u001b[0;32mfrom\u001b[0m \u001b[0mdotenv\u001b[0m \u001b[0;32mimport\u001b[0m \u001b[0mload_dotenv\u001b[0m\u001b[0;34m\u001b[0m\u001b[0;34m\u001b[0m\u001b[0m\n\u001b[1;32m     10\u001b[0m \u001b[0;32mfrom\u001b[0m \u001b[0mlangchain\u001b[0m\u001b[0;34m.\u001b[0m\u001b[0magents\u001b[0m \u001b[0;32mimport\u001b[0m \u001b[0mtool\u001b[0m\u001b[0;34m\u001b[0m\u001b[0;34m\u001b[0m\u001b[0m\n\u001b[0;32m---> 11\u001b[0;31m \u001b[0;32mfrom\u001b[0m \u001b[0mlangchain_community\u001b[0m\u001b[0;34m.\u001b[0m\u001b[0magent_toolkits\u001b[0m \u001b[0;32mimport\u001b[0m \u001b[0mSQLDatabaseToolkit\u001b[0m\u001b[0;34m\u001b[0m\u001b[0;34m\u001b[0m\u001b[0m\n\u001b[0m\u001b[1;32m     12\u001b[0m \u001b[0;32mfrom\u001b[0m \u001b[0mlangchain_community\u001b[0m\u001b[0;34m.\u001b[0m\u001b[0mutilities\u001b[0m \u001b[0;32mimport\u001b[0m \u001b[0mSQLDatabase\u001b[0m\u001b[0;34m\u001b[0m\u001b[0;34m\u001b[0m\u001b[0m\n\u001b[1;32m     13\u001b[0m \u001b[0;32mfrom\u001b[0m \u001b[0mlangchain_core\u001b[0m\u001b[0;34m.\u001b[0m\u001b[0mmessages\u001b[0m \u001b[0;32mimport\u001b[0m \u001b[0mToolMessage\u001b[0m\u001b[0;34m\u001b[0m\u001b[0;34m\u001b[0m\u001b[0m\n",
            "\u001b[0;31mModuleNotFoundError\u001b[0m: No module named 'langchain_community'",
            "",
            "\u001b[0;31m---------------------------------------------------------------------------\u001b[0;32m\nNOTE: If your import is failing due to a missing package, you can\nmanually install dependencies using either !pip or !apt.\n\nTo view examples of installing some common dependencies, click the\n\"Open Examples\" button below.\n\u001b[0;31m---------------------------------------------------------------------------\u001b[0m\n"
          ],
          "errorDetails": {
            "actions": [
              {
                "action": "open_url",
                "actionText": "Open Examples",
                "url": "/notebooks/snippets/importing_libraries.ipynb"
              }
            ]
          }
        }
      ]
    },
    {
      "cell_type": "code",
      "metadata": {
        "colab": {
          "base_uri": "https://localhost:8080/"
        },
        "id": "ce1ad8c0",
        "outputId": "be3ac74b-afee-4c7e-93a7-d4ba6b997740"
      },
      "source": [
        "%pip install --quiet --upgrade langchain-community"
      ],
      "id": "ce1ad8c0",
      "execution_count": 8,
      "outputs": [
        {
          "output_type": "stream",
          "name": "stdout",
          "text": [
            "\u001b[?25l   \u001b[90m━━━━━━━━━━━━━━━━━━━━━━━━━━━━━━━━━━━━━━━━\u001b[0m \u001b[32m0.0/2.5 MB\u001b[0m \u001b[31m?\u001b[0m eta \u001b[36m-:--:--\u001b[0m\r\u001b[2K   \u001b[91m━━━━━━━\u001b[0m\u001b[91m╸\u001b[0m\u001b[90m━━━━━━━━━━━━━━━━━━━━━━━━━━━━━━━━\u001b[0m \u001b[32m0.5/2.5 MB\u001b[0m \u001b[31m14.6 MB/s\u001b[0m eta \u001b[36m0:00:01\u001b[0m\r\u001b[2K   \u001b[91m━━━━━━━━━━━━━━━━━━━━━━━━━━━━━━━━━━━━━━━\u001b[0m\u001b[91m╸\u001b[0m \u001b[32m2.5/2.5 MB\u001b[0m \u001b[31m39.8 MB/s\u001b[0m eta \u001b[36m0:00:01\u001b[0m\r\u001b[2K   \u001b[90m━━━━━━━━━━━━━━━━━━━━━━━━━━━━━━━━━━━━━━━━\u001b[0m \u001b[32m2.5/2.5 MB\u001b[0m \u001b[31m29.5 MB/s\u001b[0m eta \u001b[36m0:00:00\u001b[0m\n",
            "\u001b[?25h\u001b[?25l   \u001b[90m━━━━━━━━━━━━━━━━━━━━━━━━━━━━━━━━━━━━━━━━\u001b[0m \u001b[32m0.0/45.2 kB\u001b[0m \u001b[31m?\u001b[0m eta \u001b[36m-:--:--\u001b[0m\r\u001b[2K   \u001b[90m━━━━━━━━━━━━━━━━━━━━━━━━━━━━━━━━━━━━━━━━\u001b[0m \u001b[32m45.2/45.2 kB\u001b[0m \u001b[31m3.8 MB/s\u001b[0m eta \u001b[36m0:00:00\u001b[0m\n",
            "\u001b[?25h\u001b[?25l   \u001b[90m━━━━━━━━━━━━━━━━━━━━━━━━━━━━━━━━━━━━━━━━\u001b[0m \u001b[32m0.0/50.9 kB\u001b[0m \u001b[31m?\u001b[0m eta \u001b[36m-:--:--\u001b[0m\r\u001b[2K   \u001b[90m━━━━━━━━━━━━━━━━━━━━━━━━━━━━━━━━━━━━━━━━\u001b[0m \u001b[32m50.9/50.9 kB\u001b[0m \u001b[31m4.0 MB/s\u001b[0m eta \u001b[36m0:00:00\u001b[0m\n",
            "\u001b[?25h"
          ]
        }
      ]
    },
    {
      "cell_type": "code",
      "metadata": {
        "colab": {
          "base_uri": "https://localhost:8080/"
        },
        "id": "50a4882d",
        "outputId": "832e5a5e-3879-4679-b273-9dd53673d284"
      },
      "source": [
        "import os\n",
        "import sqlite3\n",
        "import uuid\n",
        "from ast import literal_eval\n",
        "\n",
        "import pandas as pd\n",
        "import requests\n",
        "from arize.otel import register\n",
        "from dotenv import load_dotenv\n",
        "from langchain.agents import tool\n",
        "from langchain_community.agent_toolkits import SQLDatabaseToolkit\n",
        "from langchain_community.utilities import SQLDatabase\n",
        "from langchain_core.messages import ToolMessage\n",
        "from langchain_core.prompts import ChatPromptTemplate\n",
        "from langchain_core.runnables import Runnable, RunnableConfig, RunnableLambda\n",
        "from langchain_openai import ChatOpenAI\n",
        "from langgraph.checkpoint.sqlite import SqliteSaver\n",
        "from langgraph.graph import END, StateGraph\n",
        "from langgraph.prebuilt import ToolNode, tools_condition\n",
        "from langgraph.prebuilt.tool_node import ToolNode\n",
        "from openinference.instrumentation.langchain import LangChainInstrumentor\n",
        "from tqdm import tqdm\n",
        "\n",
        "from phoenix.evals import (\n",
        "    SQL_GEN_EVAL_PROMPT_TEMPLATE,\n",
        "    SQL_GEN_EVAL_PROMPT_RAILS_MAP,\n",
        "    llm_classify,\n",
        "    OpenAIModel,\n",
        ")\n",
        "\n",
        "from getpass import getpass\n",
        "import numpy as np"
      ],
      "id": "50a4882d",
      "execution_count": 9,
      "outputs": [
        {
          "output_type": "error",
          "ename": "ModuleNotFoundError",
          "evalue": "No module named 'langchain_openai'",
          "traceback": [
            "\u001b[0;31m---------------------------------------------------------------------------\u001b[0m",
            "\u001b[0;31mModuleNotFoundError\u001b[0m                       Traceback (most recent call last)",
            "\u001b[0;32m/tmp/ipython-input-2007608117.py\u001b[0m in \u001b[0;36m<cell line: 0>\u001b[0;34m()\u001b[0m\n\u001b[1;32m     14\u001b[0m \u001b[0;32mfrom\u001b[0m \u001b[0mlangchain_core\u001b[0m\u001b[0;34m.\u001b[0m\u001b[0mprompts\u001b[0m \u001b[0;32mimport\u001b[0m \u001b[0mChatPromptTemplate\u001b[0m\u001b[0;34m\u001b[0m\u001b[0;34m\u001b[0m\u001b[0m\n\u001b[1;32m     15\u001b[0m \u001b[0;32mfrom\u001b[0m \u001b[0mlangchain_core\u001b[0m\u001b[0;34m.\u001b[0m\u001b[0mrunnables\u001b[0m \u001b[0;32mimport\u001b[0m \u001b[0mRunnable\u001b[0m\u001b[0;34m,\u001b[0m \u001b[0mRunnableConfig\u001b[0m\u001b[0;34m,\u001b[0m \u001b[0mRunnableLambda\u001b[0m\u001b[0;34m\u001b[0m\u001b[0;34m\u001b[0m\u001b[0m\n\u001b[0;32m---> 16\u001b[0;31m \u001b[0;32mfrom\u001b[0m \u001b[0mlangchain_openai\u001b[0m \u001b[0;32mimport\u001b[0m \u001b[0mChatOpenAI\u001b[0m\u001b[0;34m\u001b[0m\u001b[0;34m\u001b[0m\u001b[0m\n\u001b[0m\u001b[1;32m     17\u001b[0m \u001b[0;32mfrom\u001b[0m \u001b[0mlanggraph\u001b[0m\u001b[0;34m.\u001b[0m\u001b[0mcheckpoint\u001b[0m\u001b[0;34m.\u001b[0m\u001b[0msqlite\u001b[0m \u001b[0;32mimport\u001b[0m \u001b[0mSqliteSaver\u001b[0m\u001b[0;34m\u001b[0m\u001b[0;34m\u001b[0m\u001b[0m\n\u001b[1;32m     18\u001b[0m \u001b[0;32mfrom\u001b[0m \u001b[0mlanggraph\u001b[0m\u001b[0;34m.\u001b[0m\u001b[0mgraph\u001b[0m \u001b[0;32mimport\u001b[0m \u001b[0mEND\u001b[0m\u001b[0;34m,\u001b[0m \u001b[0mStateGraph\u001b[0m\u001b[0;34m\u001b[0m\u001b[0;34m\u001b[0m\u001b[0m\n",
            "\u001b[0;31mModuleNotFoundError\u001b[0m: No module named 'langchain_openai'",
            "",
            "\u001b[0;31m---------------------------------------------------------------------------\u001b[0;32m\nNOTE: If your import is failing due to a missing package, you can\nmanually install dependencies using either !pip or !apt.\n\nTo view examples of installing some common dependencies, click the\n\"Open Examples\" button below.\n\u001b[0;31m---------------------------------------------------------------------------\u001b[0m\n"
          ],
          "errorDetails": {
            "actions": [
              {
                "action": "open_url",
                "actionText": "Open Examples",
                "url": "/notebooks/snippets/importing_libraries.ipynb"
              }
            ]
          }
        }
      ]
    },
    {
      "cell_type": "code",
      "metadata": {
        "colab": {
          "base_uri": "https://localhost:8080/"
        },
        "id": "f8df1652",
        "outputId": "970b38ef-5c43-4da0-9b94-8613fb7b5b4e"
      },
      "source": [
        "%pip install --quiet --upgrade langchain-openai"
      ],
      "id": "f8df1652",
      "execution_count": 10,
      "outputs": [
        {
          "output_type": "stream",
          "name": "stdout",
          "text": [
            "\u001b[?25l   \u001b[90m━━━━━━━━━━━━━━━━━━━━━━━━━━━━━━━━━━━━━━━━\u001b[0m \u001b[32m0.0/74.4 kB\u001b[0m \u001b[31m?\u001b[0m eta \u001b[36m-:--:--\u001b[0m\r\u001b[2K   \u001b[90m━━━━━━━━━━━━━━━━━━━━━━━━━━━━━━━━━━━━━━━━\u001b[0m \u001b[32m74.4/74.4 kB\u001b[0m \u001b[31m2.1 MB/s\u001b[0m eta \u001b[36m0:00:00\u001b[0m\n",
            "\u001b[?25h"
          ]
        }
      ]
    },
    {
      "cell_type": "code",
      "metadata": {
        "id": "0061a79d",
        "outputId": "7a714386-1284-45bb-ede4-305d6d70c509",
        "colab": {
          "base_uri": "https://localhost:8080/"
        }
      },
      "source": [
        "import os\n",
        "import sqlite3\n",
        "import uuid\n",
        "from ast import literal_eval\n",
        "\n",
        "import pandas as pd\n",
        "import requests\n",
        "from arize.otel import register\n",
        "from dotenv import load_dotenv\n",
        "from langchain.agents import tool\n",
        "from langchain_community.agent_toolkits import SQLDatabaseToolkit\n",
        "from langchain_community.utilities import SQLDatabase\n",
        "from langchain_core.messages import ToolMessage\n",
        "from langchain_core.prompts import ChatPromptTemplate\n",
        "from langchain_core.runnables import Runnable, RunnableConfig, RunnableLambda\n",
        "from langchain_openai import ChatOpenAI\n",
        "from langgraph.checkpoint.sqlite import SqliteSaver\n",
        "from langgraph.graph import END, StateGraph\n",
        "from langgraph.prebuilt import ToolNode, tools_condition\n",
        "from langgraph.prebuilt.tool_node import ToolNode\n",
        "from openinference.instrumentation.langchain import LangChainInstrumentor\n",
        "from tqdm import tqdm\n",
        "\n",
        "from phoenix.evals import (\n",
        "    SQL_GEN_EVAL_PROMPT_TEMPLATE,\n",
        "    SQL_GEN_EVAL_PROMPT_RAILS_MAP,\n",
        "    llm_classify,\n",
        "    OpenAIModel,\n",
        ")\n",
        "\n",
        "from getpass import getpass\n",
        "import numpy as np"
      ],
      "id": "0061a79d",
      "execution_count": 11,
      "outputs": [
        {
          "output_type": "error",
          "ename": "ModuleNotFoundError",
          "evalue": "No module named 'langgraph'",
          "traceback": [
            "\u001b[0;31m---------------------------------------------------------------------------\u001b[0m",
            "\u001b[0;31mModuleNotFoundError\u001b[0m                       Traceback (most recent call last)",
            "\u001b[0;32m/tmp/ipython-input-2007608117.py\u001b[0m in \u001b[0;36m<cell line: 0>\u001b[0;34m()\u001b[0m\n\u001b[1;32m     15\u001b[0m \u001b[0;32mfrom\u001b[0m \u001b[0mlangchain_core\u001b[0m\u001b[0;34m.\u001b[0m\u001b[0mrunnables\u001b[0m \u001b[0;32mimport\u001b[0m \u001b[0mRunnable\u001b[0m\u001b[0;34m,\u001b[0m \u001b[0mRunnableConfig\u001b[0m\u001b[0;34m,\u001b[0m \u001b[0mRunnableLambda\u001b[0m\u001b[0;34m\u001b[0m\u001b[0;34m\u001b[0m\u001b[0m\n\u001b[1;32m     16\u001b[0m \u001b[0;32mfrom\u001b[0m \u001b[0mlangchain_openai\u001b[0m \u001b[0;32mimport\u001b[0m \u001b[0mChatOpenAI\u001b[0m\u001b[0;34m\u001b[0m\u001b[0;34m\u001b[0m\u001b[0m\n\u001b[0;32m---> 17\u001b[0;31m \u001b[0;32mfrom\u001b[0m \u001b[0mlanggraph\u001b[0m\u001b[0;34m.\u001b[0m\u001b[0mcheckpoint\u001b[0m\u001b[0;34m.\u001b[0m\u001b[0msqlite\u001b[0m \u001b[0;32mimport\u001b[0m \u001b[0mSqliteSaver\u001b[0m\u001b[0;34m\u001b[0m\u001b[0;34m\u001b[0m\u001b[0m\n\u001b[0m\u001b[1;32m     18\u001b[0m \u001b[0;32mfrom\u001b[0m \u001b[0mlanggraph\u001b[0m\u001b[0;34m.\u001b[0m\u001b[0mgraph\u001b[0m \u001b[0;32mimport\u001b[0m \u001b[0mEND\u001b[0m\u001b[0;34m,\u001b[0m \u001b[0mStateGraph\u001b[0m\u001b[0;34m\u001b[0m\u001b[0;34m\u001b[0m\u001b[0m\n\u001b[1;32m     19\u001b[0m \u001b[0;32mfrom\u001b[0m \u001b[0mlanggraph\u001b[0m\u001b[0;34m.\u001b[0m\u001b[0mprebuilt\u001b[0m \u001b[0;32mimport\u001b[0m \u001b[0mToolNode\u001b[0m\u001b[0;34m,\u001b[0m \u001b[0mtools_condition\u001b[0m\u001b[0;34m\u001b[0m\u001b[0;34m\u001b[0m\u001b[0m\n",
            "\u001b[0;31mModuleNotFoundError\u001b[0m: No module named 'langgraph'",
            "",
            "\u001b[0;31m---------------------------------------------------------------------------\u001b[0;32m\nNOTE: If your import is failing due to a missing package, you can\nmanually install dependencies using either !pip or !apt.\n\nTo view examples of installing some common dependencies, click the\n\"Open Examples\" button below.\n\u001b[0;31m---------------------------------------------------------------------------\u001b[0m\n"
          ],
          "errorDetails": {
            "actions": [
              {
                "action": "open_url",
                "actionText": "Open Examples",
                "url": "/notebooks/snippets/importing_libraries.ipynb"
              }
            ]
          }
        }
      ]
    }
  ],
  "metadata": {
    "language_info": {
      "name": "python"
    },
    "colab": {
      "provenance": []
    },
    "kernelspec": {
      "name": "python3",
      "display_name": "Python 3"
    }
  },
  "nbformat": 4,
  "nbformat_minor": 5
}